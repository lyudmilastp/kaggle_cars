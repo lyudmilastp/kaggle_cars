{
 "cells": [
  {
   "cell_type": "code",
   "execution_count": 8,
   "metadata": {},
   "outputs": [
    {
     "name": "stdout",
     "output_type": "stream",
     "text": [
      "Area info loaded from file: C:\\Users\\svasiliev\\PycharmProjects\\pythonProject\\useful_staff\\tmp\\50_30_50230_378\\feature_info.json\n",
      "Get tiles:\n",
      "\r",
      "16% 1/6\r",
      "33% 2/6\r",
      "50% 3/6\r",
      "66% 4/6\r",
      "83% 5/6\r",
      "100% 6/6\n",
      "Completed, 6 tiles received\n",
      "raster - C:\\Users\\svasiliev\\PycharmProjects\\pythonProject\\useful_staff\\tmp\\50_30_50230_378\\1000_1000\\50_30_50230_378.png\n"
     ]
    }
   ],
   "source": [
    "from rosreestr2coord import Area\n",
    "import json\n",
    "import geojson\n",
    "area = Area(\"50:30:0050230:378\")\n",
    "# аргументы\n",
    "#   code='' - кадастровый номер участка\n",
    "#   area_type=1 - тип площади\n",
    "#   epsilon=5 - точность аппроксимации\n",
    "#   media_path='' - путь для временных файлов\n",
    "#   with_log=True - логирование\n",
    "#   coord_out='EPSG:4326' - или EPSG:3857 (будет удалена в последующих версиях)\n",
    "#   center_only=False - экспорт координат центров участка\n",
    "#   with_proxy=False - запросы через прокси\n",
    "#   use_cache=True - использовать кэширование запросов\n"
   ]
  },
  {
   "cell_type": "code",
   "execution_count": null,
   "metadata": {},
   "outputs": [],
   "source": [
    "from sys import argv\n",
    "from os.path import exists\n",
    "import json \n",
    "\n",
    "script, in_file, out_file = argv\n",
    "\n",
    "data = json.load(open(in_file))\n",
    "\n",
    "geojson = {\n",
    "    \"type\": \"FeatureCollection\",\n",
    "    \"features\": [\n",
    "    {\n",
    "        \"type\": \"Feature\",\n",
    "        \"geometry\" : {\n",
    "            \"type\": \"Point\",\n",
    "            \"coordinates\": [d[\"lon\"], d[\"lat\"]],\n",
    "            },\n",
    "        \"properties\" : d,\n",
    "     } for d in data]\n",
    "}\n",
    "\n",
    "\n",
    "output = open(out_file, 'w')\n",
    "json.dump(geojson, output)"
   ]
  },
  {
   "cell_type": "code",
   "execution_count": null,
   "metadata": {},
   "outputs": [],
   "source": [
    "def df_to_geojson(df, properties, lat='latitude', lon='longitude'):\n",
    "    geojson = {'type':'FeatureCollection', 'features':[]}\n",
    "    for _, row in df.iterrows():\n",
    "        feature = {'type':'Feature',\n",
    "                   'properties':{},\n",
    "                   'geometry':{'type':'Point',\n",
    "                               'coordinates':[]}}\n",
    "        feature['geometry']['coordinates'] = [row[lon],row[lat]]\n",
    "        for prop in properties:\n",
    "            feature['properties'][prop] = row[prop]\n",
    "        geojson['features'].append(feature)\n",
    "    return geojson"
   ]
  },
  {
   "cell_type": "code",
   "execution_count": null,
   "metadata": {},
   "outputs": [],
   "source": []
  },
  {
   "cell_type": "code",
   "execution_count": 9,
   "metadata": {},
   "outputs": [
    {
     "ename": "AttributeError",
     "evalue": "'str' object has no attribute 'read'",
     "output_type": "error",
     "traceback": [
      "\u001b[1;31m---------------------------------------------------------------------------\u001b[0m",
      "\u001b[1;31mAttributeError\u001b[0m                            Traceback (most recent call last)",
      "\u001b[1;32m<ipython-input-9-7ffb70e001b0>\u001b[0m in \u001b[0;36m<module>\u001b[1;34m\u001b[0m\n\u001b[1;32m----> 1\u001b[1;33m \u001b[0mgeojson\u001b[0m\u001b[1;33m.\u001b[0m\u001b[0mload\u001b[0m\u001b[1;33m(\u001b[0m\u001b[1;34m'developer.json'\u001b[0m\u001b[1;33m)\u001b[0m\u001b[1;33m\u001b[0m\u001b[1;33m\u001b[0m\u001b[0m\n\u001b[0m",
      "\u001b[1;32m~\\Anaconda3\\lib\\site-packages\\geojson\\codec.py\u001b[0m in \u001b[0;36mload\u001b[1;34m(fp, cls, parse_constant, object_hook, **kwargs)\u001b[0m\n\u001b[0;32m     38\u001b[0m          \u001b[0mobject_hook\u001b[0m\u001b[1;33m=\u001b[0m\u001b[0mgeojson\u001b[0m\u001b[1;33m.\u001b[0m\u001b[0mbase\u001b[0m\u001b[1;33m.\u001b[0m\u001b[0mGeoJSON\u001b[0m\u001b[1;33m.\u001b[0m\u001b[0mto_instance\u001b[0m\u001b[1;33m,\u001b[0m\u001b[1;33m\u001b[0m\u001b[1;33m\u001b[0m\u001b[0m\n\u001b[0;32m     39\u001b[0m          **kwargs):\n\u001b[1;32m---> 40\u001b[1;33m     return json.load(fp,\n\u001b[0m\u001b[0;32m     41\u001b[0m                      \u001b[0mcls\u001b[0m\u001b[1;33m=\u001b[0m\u001b[0mcls\u001b[0m\u001b[1;33m,\u001b[0m \u001b[0mobject_hook\u001b[0m\u001b[1;33m=\u001b[0m\u001b[0mobject_hook\u001b[0m\u001b[1;33m,\u001b[0m\u001b[1;33m\u001b[0m\u001b[1;33m\u001b[0m\u001b[0m\n\u001b[0;32m     42\u001b[0m                      \u001b[0mparse_constant\u001b[0m\u001b[1;33m=\u001b[0m\u001b[0mparse_constant\u001b[0m\u001b[1;33m,\u001b[0m\u001b[1;33m\u001b[0m\u001b[1;33m\u001b[0m\u001b[0m\n",
      "\u001b[1;32m~\\Anaconda3\\lib\\json\\__init__.py\u001b[0m in \u001b[0;36mload\u001b[1;34m(fp, cls, object_hook, parse_float, parse_int, parse_constant, object_pairs_hook, **kw)\u001b[0m\n\u001b[0;32m    291\u001b[0m     \u001b[0mkwarg\u001b[0m\u001b[1;33m;\u001b[0m \u001b[0motherwise\u001b[0m\u001b[0;31m \u001b[0m\u001b[0;31m`\u001b[0m\u001b[0;31m`\u001b[0m\u001b[0mJSONDecoder\u001b[0m\u001b[0;31m`\u001b[0m\u001b[0;31m`\u001b[0m \u001b[1;32mis\u001b[0m \u001b[0mused\u001b[0m\u001b[1;33m.\u001b[0m\u001b[1;33m\u001b[0m\u001b[1;33m\u001b[0m\u001b[0m\n\u001b[0;32m    292\u001b[0m     \"\"\"\n\u001b[1;32m--> 293\u001b[1;33m     return loads(fp.read(),\n\u001b[0m\u001b[0;32m    294\u001b[0m         \u001b[0mcls\u001b[0m\u001b[1;33m=\u001b[0m\u001b[0mcls\u001b[0m\u001b[1;33m,\u001b[0m \u001b[0mobject_hook\u001b[0m\u001b[1;33m=\u001b[0m\u001b[0mobject_hook\u001b[0m\u001b[1;33m,\u001b[0m\u001b[1;33m\u001b[0m\u001b[1;33m\u001b[0m\u001b[0m\n\u001b[0;32m    295\u001b[0m         \u001b[0mparse_float\u001b[0m\u001b[1;33m=\u001b[0m\u001b[0mparse_float\u001b[0m\u001b[1;33m,\u001b[0m \u001b[0mparse_int\u001b[0m\u001b[1;33m=\u001b[0m\u001b[0mparse_int\u001b[0m\u001b[1;33m,\u001b[0m\u001b[1;33m\u001b[0m\u001b[1;33m\u001b[0m\u001b[0m\n",
      "\u001b[1;31mAttributeError\u001b[0m: 'str' object has no attribute 'read'"
     ]
    }
   ],
   "source": [
    "geojson.load('developer.json')"
   ]
  },
  {
   "cell_type": "code",
   "execution_count": null,
   "metadata": {},
   "outputs": [],
   "source": [
    "coord = area.to_geojson()"
   ]
  },
  {
   "cell_type": "code",
   "execution_count": null,
   "metadata": {},
   "outputs": [],
   "source": [
    "with open(\"developer.json\", \"w\") as write_file:\n",
    "    json.dump(coord, write_file) "
   ]
  },
  {
   "cell_type": "code",
   "execution_count": null,
   "metadata": {},
   "outputs": [],
   "source": []
  }
 ],
 "metadata": {
  "kernelspec": {
   "display_name": "Python 3",
   "language": "python",
   "name": "python3"
  },
  "language_info": {
   "codemirror_mode": {
    "name": "ipython",
    "version": 3
   },
   "file_extension": ".py",
   "mimetype": "text/x-python",
   "name": "python",
   "nbconvert_exporter": "python",
   "pygments_lexer": "ipython3",
   "version": "3.8.3"
  }
 },
 "nbformat": 4,
 "nbformat_minor": 4
}
