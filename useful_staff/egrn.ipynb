{
 "cells": [
  {
   "cell_type": "code",
   "execution_count": 18,
   "metadata": {},
   "outputs": [],
   "source": [
    "import os\n",
    "import zipfile\n",
    "import webbrowser,time\n",
    "from selenium import webdriver\n",
    "from selenium.common.exceptions import NoSuchElementException\n",
    "from selenium.webdriver.common.keys import Keys\n",
    "from selenium.webdriver.common.action_chains import ActionChains\n",
    "from selenium import webdriver\n",
    "from selenium.webdriver.firefox.options import Options"
   ]
  },
  {
   "cell_type": "code",
   "execution_count": 19,
   "metadata": {},
   "outputs": [
    {
     "ename": "FileNotFoundError",
     "evalue": "[WinError 2] Не удается найти указанный файл: 'C:\\\\2\\\\'",
     "output_type": "error",
     "traceback": [
      "\u001b[1;31m---------------------------------------------------------------------------\u001b[0m",
      "\u001b[1;31mFileNotFoundError\u001b[0m                         Traceback (most recent call last)",
      "\u001b[1;32m<ipython-input-19-68fc56399f01>\u001b[0m in \u001b[0;36m<module>\u001b[1;34m\u001b[0m\n\u001b[0;32m      7\u001b[0m \u001b[0mbrowser\u001b[0m\u001b[1;33m.\u001b[0m\u001b[0mget\u001b[0m \u001b[1;33m(\u001b[0m\u001b[1;34m'https://rosreestr.ru/wps/portal/cc_vizualisation'\u001b[0m\u001b[1;33m)\u001b[0m\u001b[1;33m\u001b[0m\u001b[1;33m\u001b[0m\u001b[0m\n\u001b[0;32m      8\u001b[0m \u001b[0mtime\u001b[0m\u001b[1;33m.\u001b[0m\u001b[0msleep\u001b[0m \u001b[1;33m(\u001b[0m\u001b[1;36m5\u001b[0m\u001b[1;33m)\u001b[0m\u001b[1;33m\u001b[0m\u001b[1;33m\u001b[0m\u001b[0m\n\u001b[1;32m----> 9\u001b[1;33m \u001b[0mos\u001b[0m\u001b[1;33m.\u001b[0m\u001b[0mchdir\u001b[0m\u001b[1;33m(\u001b[0m\u001b[1;34m'C:\\\\2\\\\'\u001b[0m\u001b[1;33m)\u001b[0m\u001b[1;33m\u001b[0m\u001b[1;33m\u001b[0m\u001b[0m\n\u001b[0m\u001b[0;32m     10\u001b[0m \u001b[1;33m\u001b[0m\u001b[0m\n\u001b[0;32m     11\u001b[0m \u001b[1;31m#zip_ref = zipfile.ZipFile(path_to_zip_file, 'r')\u001b[0m\u001b[1;33m\u001b[0m\u001b[1;33m\u001b[0m\u001b[1;33m\u001b[0m\u001b[0m\n",
      "\u001b[1;31mFileNotFoundError\u001b[0m: [WinError 2] Не удается найти указанный файл: 'C:\\\\2\\\\'"
     ]
    }
   ],
   "source": [
    "#заходим на Росреестр\n",
    "#browser = webdriver.Firefox(firefox_profile=profile)\n",
    "options = Options()\n",
    "options.binary_location = r\"C:/Program Files/Mozilla Firefox/firefox.exe\"\n",
    "browser = webdriver.Firefox(options=options, executable_path=\"C:/Users/svasiliev/bin/python/Scripts/geckodriver.exe\")\n",
    "time.sleep (5)\n",
    "browser.get ('https://rosreestr.ru/wps/portal/cc_vizualisation')        \n",
    "time.sleep (5)\n",
    "os.chdir('C:\\\\2\\\\')\n",
    "\n",
    "#zip_ref = zipfile.ZipFile(path_to_zip_file, 'r')\n",
    "#zip_ref.extractall(directory_to_extract_to)\n",
    "#zip_ref.close()\n",
    "\n",
    "zipFiles = []\n",
    "sigFiles = []\n",
    "\n",
    "for filename in os.listdir('.'):\n",
    "    if filename.endswith('.zip'):        \n",
    "        zipfile.ZipFile(filename, 'r').extractall()\n",
    "        os.remove(filename)\n",
    "\n",
    "#собираем файлы в список\n",
    "for filename in os.listdir('.'):\n",
    "    if filename.endswith('.zip'):\n",
    "        zipFiles.append(filename)\n",
    "#zipFiles.sort()\n",
    "#print(zipFiles)\n",
    "\n",
    "\n",
    "for filename in zipFiles:    \n",
    "    act = browser.find_element_by_id('sig_file')\n",
    "    act.send_keys('C:\\\\2\\\\'+str(filename)+'.sig')\n",
    "    act = browser.find_element_by_id('xml_file')\n",
    "    #распаковываем zip файл\n",
    "    zip_ref = zipfile.ZipFile(filename, 'r').extractall()\n",
    "    #берем xml из распакованного\n",
    "    for f in os.listdir('.'):\n",
    "        if f.endswith('.xml'):\n",
    "            print(f)\n",
    "    #вводим xml файл на сайте\n",
    "            act.send_keys('C:\\\\2\\\\'+str(f))    \n",
    "    act = browser.find_element_by_css_selector('input.brdg1111')\n",
    "    act.click()\n",
    "    i = tuple (str(input(\"Введите каптчу: \")))\n",
    "    for b in i:\n",
    "        act.send_keys(b)\n",
    "        time.sleep (0.1)\n",
    "    #act.submit()\n",
    "    act = browser.find_element_by_css_selector('.terminal-button-bright')\n",
    "    act.click()\n",
    "    time.sleep (5)\n",
    "    \n",
    "    try:\n",
    "        act = browser.find_element_by_link_text('Показать в человекочитаемом формате')\n",
    "        act.click()\n",
    "    #если ошибка с капчей        \n",
    "    except NoSuchElementException:\n",
    "        act = browser.find_element_by_id('sig_file')\n",
    "        act.send_keys('C:\\\\2\\\\'+str(filename)+'.sig')\n",
    "        act = browser.find_element_by_id('xml_file')\n",
    "        for f in os.listdir('.'):\n",
    "            if f.endswith('.xml'):\n",
    "                print(f)    \n",
    "                act.send_keys('C:\\\\2\\\\'+str(f))\n",
    "        act = browser.find_element_by_css_selector('input.brdg1111')\n",
    "        act.click()\n",
    "        i = tuple (str(input(\"Введите каптчу: \")))\n",
    "        for b in i:\n",
    "            act.send_keys(b)\n",
    "            time.sleep (0.1)        \n",
    "        act = browser.find_element_by_css_selector('.terminal-button-bright')\n",
    "        act.click()\n",
    "        time.sleep (15)\n",
    "        \n",
    "    os.remove(filename)\n",
    "    os.remove(filename+'.sig')\n",
    "    for f in os.listdir('.'):\n",
    "            if f.endswith('.xml'):                \n",
    "                os.remove(f)\n",
    "\n",
    "time.sleep(15)\n",
    "browser.quit()\n",
    "\n"
   ]
  },
  {
   "cell_type": "code",
   "execution_count": 15,
   "metadata": {},
   "outputs": [],
   "source": [
    "from selenium import webdriver\n",
    "from selenium.webdriver.firefox.options import Options\n",
    "\n",
    "options = Options()\n",
    "options.binary_location = r\"C:/Program Files/Mozilla Firefox/firefox.exe\"\n",
    "driver = webdriver.Firefox(options=options, executable_path=\"C:/Users/svasiliev/bin/python/Scripts/geckodriver.exe\")\n",
    "driver.get('http://google.com/')"
   ]
  },
  {
   "cell_type": "code",
   "execution_count": null,
   "metadata": {},
   "outputs": [],
   "source": []
  }
 ],
 "metadata": {
  "kernelspec": {
   "display_name": "Python 3",
   "language": "python",
   "name": "python3"
  },
  "language_info": {
   "codemirror_mode": {
    "name": "ipython",
    "version": 3
   },
   "file_extension": ".py",
   "mimetype": "text/x-python",
   "name": "python",
   "nbconvert_exporter": "python",
   "pygments_lexer": "ipython3",
   "version": "3.8.3"
  }
 },
 "nbformat": 4,
 "nbformat_minor": 4
}
